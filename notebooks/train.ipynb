{
  "nbformat": 4,
  "nbformat_minor": 0,
  "metadata": {
    "colab": {
      "name": "train",
      "provenance": [],
      "collapsed_sections": [],
      "toc_visible": true
    },
    "kernelspec": {
      "name": "python3",
      "display_name": "Python 3"
    }
  },
  "cells": [
    {
      "cell_type": "code",
      "metadata": {
        "id": "0Qc7QYY7XBY2",
        "colab_type": "code",
        "colab": {}
      },
      "source": [
        "!pip install git+https://github.com/kekgle/colorito.git@master --upgrade\n",
        "!python -m spacy download en"
      ],
      "execution_count": 0,
      "outputs": []
    },
    {
      "cell_type": "code",
      "metadata": {
        "id": "eHRtr4l7Xb7A",
        "colab_type": "code",
        "colab": {}
      },
      "source": [
        "!python -m colorito.nnet.train -h"
      ],
      "execution_count": 0,
      "outputs": []
    },
    {
      "cell_type": "markdown",
      "metadata": {
        "id": "rc170CBVXnI5",
        "colab_type": "text"
      },
      "source": [
        "## Train Lite Network"
      ]
    },
    {
      "cell_type": "code",
      "metadata": {
        "id": "pbISpUhrXgpK",
        "colab_type": "code",
        "colab": {}
      },
      "source": [
        "!rm -rf lite-colorgen\n",
        "!python -m colorito.nnet.train -o \".\" -n 1 -e 10 -b 16 -lr 0.001 --lite\n",
        "!mv color-generator lite-colorgen\n",
        "!tar -czf lite-colorgen.tar.gz lite-colorgen"
      ],
      "execution_count": 0,
      "outputs": []
    },
    {
      "cell_type": "code",
      "metadata": {
        "id": "2lBbmBopXlMe",
        "colab_type": "code",
        "colab": {}
      },
      "source": [
        "from colorito.palette import SmartPalette\n",
        "\n",
        "palette = SmartPalette(nnet='lite-colorgen')\n",
        "palette.invent('light blue').render()\n",
        "palette.invent('blue').render()\n",
        "palette.invent('cyan').render()\n",
        "palette.invent('dark blue').render()\n",
        "\n",
        "palette.invent('light red').render()\n",
        "palette.invent('red').render()\n",
        "palette.invent('pink').render()\n",
        "palette.invent('dark red').render()\n",
        "palette.invent('fire red').render()\n",
        "palette.invent('sky').render()"
      ],
      "execution_count": 0,
      "outputs": []
    },
    {
      "cell_type": "markdown",
      "metadata": {
        "id": "OsbcWr7bvoA8",
        "colab_type": "text"
      },
      "source": [
        "## Train Full Network"
      ]
    },
    {
      "cell_type": "code",
      "metadata": {
        "id": "cSEL0Q3JtvSa",
        "colab_type": "code",
        "colab": {}
      },
      "source": [
        "!rm -rf color-generator\n",
        "!python -m colorito.nnet.train -o \".\" -n 3 -e 8 -b 32 -lr 0.0005\n",
        "!tar -czf color-generator.tar.gz color-generator"
      ],
      "execution_count": 0,
      "outputs": []
    },
    {
      "cell_type": "code",
      "metadata": {
        "id": "2WnN1EyGXyEE",
        "colab_type": "code",
        "colab": {}
      },
      "source": [
        "from colorito.palette import SmartPalette\n",
        "\n",
        "palette = SmartPalette(nnet='color-generator')\n",
        "palette.invent('light blue').render()\n",
        "palette.invent('blue').render()\n",
        "palette.invent('cyan').render()\n",
        "palette.invent('dark blue').render()\n",
        "\n",
        "palette.invent('light red').render()\n",
        "palette.invent('red').render()\n",
        "palette.invent('pink').render()\n",
        "palette.invent('dark red').render()\n",
        "palette.invent('fire red').render()\n",
        "palette.invent('sky').render()"
      ],
      "execution_count": 0,
      "outputs": []
    }
  ]
}
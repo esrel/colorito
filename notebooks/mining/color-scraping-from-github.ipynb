{
  "nbformat": 4,
  "nbformat_minor": 0,
  "metadata": {
    "colab": {
      "name": "Color Scraping From GitHub",
      "provenance": [],
      "toc_visible": true
    },
    "kernelspec": {
      "name": "python3",
      "display_name": "Python 3"
    }
  },
  "cells": [
    {
      "cell_type": "markdown",
      "metadata": {
        "id": "jtA_EgAy2ZlC",
        "colab_type": "text"
      },
      "source": [
        "# Scraping Colors from GitHub Repositories"
      ]
    },
    {
      "cell_type": "markdown",
      "metadata": {
        "id": "xZ1VL3L94Hwo",
        "colab_type": "text"
      },
      "source": [
        "Let's start from `color-names`. The colors in this repository are already in the desired format, so we don't need to post-process or clean."
      ]
    },
    {
      "cell_type": "code",
      "metadata": {
        "id": "GLvtTGw12WCJ",
        "colab_type": "code",
        "outputId": "b713ca1b-8406-4093-fb3c-74b7eb9fcee8",
        "colab": {
          "base_uri": "https://localhost:8080/",
          "height": 136
        }
      },
      "source": [
        "!git clone https://github.com/meodai/color-names.git color-names\n",
        "!mv color-names/dist/colornames.csv meodai-colornames.csv\n",
        "!rm -rf color-names"
      ],
      "execution_count": 0,
      "outputs": [
        {
          "output_type": "stream",
          "text": [
            "Cloning into 'color-names'...\n",
            "remote: Enumerating objects: 39, done.\u001b[K\n",
            "remote: Counting objects: 100% (39/39), done.\u001b[K\n",
            "remote: Compressing objects: 100% (25/25), done.\u001b[K\n",
            "remote: Total 2547 (delta 15), reused 21 (delta 12), pack-reused 2508\u001b[K\n",
            "Receiving objects: 100% (2547/2547), 21.66 MiB | 35.77 MiB/s, done.\n",
            "Resolving deltas: 100% (1704/1704), done.\n"
          ],
          "name": "stdout"
        }
      ]
    },
    {
      "cell_type": "markdown",
      "metadata": {
        "id": "H56gQijK4Vns",
        "colab_type": "text"
      },
      "source": [
        "Now, for the next file, we have colors defined in as `red`, `green` and `blue` values, so we need to convert them to hexadecimal."
      ]
    },
    {
      "cell_type": "code",
      "metadata": {
        "id": "82eEMEW-2sNl",
        "colab_type": "code",
        "outputId": "bf27c5d7-9e18-4be3-d9f0-7d6a0a342d42",
        "colab": {
          "base_uri": "https://localhost:8080/",
          "height": 85
        }
      },
      "source": [
        "!git clone https://github.com/Tony607/Keras-Colors.git keras-colors\n",
        "!mv keras-colors/colors.csv keras-colors.csv\n",
        "!rm -rf keras-colors"
      ],
      "execution_count": 0,
      "outputs": [
        {
          "output_type": "stream",
          "text": [
            "Cloning into 'keras-colors'...\n",
            "remote: Enumerating objects: 7, done.\u001b[K\n",
            "Unpacking objects:  14% (1/7)   \rUnpacking objects:  28% (2/7)   \rUnpacking objects:  42% (3/7)   \rUnpacking objects:  57% (4/7)   \rUnpacking objects:  71% (5/7)   \rremote: Total 7 (delta 0), reused 0 (delta 0), pack-reused 7\u001b[K\n",
            "Unpacking objects:  85% (6/7)   \rUnpacking objects: 100% (7/7)   \rUnpacking objects: 100% (7/7), done.\n"
          ],
          "name": "stdout"
        }
      ]
    },
    {
      "cell_type": "code",
      "metadata": {
        "id": "XFWbxqwj44o4",
        "colab_type": "code",
        "colab": {}
      },
      "source": [
        "import pandas as pd\n",
        "\n",
        "def to_hexadecimal(r, g, b):\n",
        "\n",
        "  def int_to_hex(i):\n",
        "    return f'0{hex(i)[2:]}'[-2:]\n",
        "\n",
        "  r = int_to_hex(r)\n",
        "  g = int_to_hex(g)\n",
        "  b = int_to_hex(b)\n",
        "\n",
        "  return f'#{r}{g}{b}'\n",
        "\n",
        "df = pd.read_csv('keras-colors.csv')\n",
        "colors = {\n",
        "  row['name']: to_hexadecimal(\n",
        "    row['red'], \n",
        "    row['green'], \n",
        "    row['blue']\n",
        "  ) for _, row in df.iterrows()\n",
        "}"
      ],
      "execution_count": 0,
      "outputs": []
    },
    {
      "cell_type": "code",
      "metadata": {
        "id": "hH0b1z8W5eOS",
        "colab_type": "code",
        "colab": {}
      },
      "source": [
        "colors"
      ],
      "execution_count": 0,
      "outputs": []
    },
    {
      "cell_type": "code",
      "metadata": {
        "id": "w4zecgsk6OKn",
        "colab_type": "code",
        "colab": {}
      },
      "source": [
        "!rm keras-colors.csv"
      ],
      "execution_count": 0,
      "outputs": []
    },
    {
      "cell_type": "code",
      "metadata": {
        "id": "5uqJulPa6U9R",
        "colab_type": "code",
        "colab": {}
      },
      "source": [
        "pd.DataFrame(\n",
        "  data={\n",
        "    'name': list(colors.keys()),\n",
        "    'hex': list(colors.values())\n",
        "  }\n",
        ").to_csv(\n",
        "  'keras-colors.csv', \n",
        "  index=False\n",
        ")"
      ],
      "execution_count": 0,
      "outputs": []
    }
  ]
}
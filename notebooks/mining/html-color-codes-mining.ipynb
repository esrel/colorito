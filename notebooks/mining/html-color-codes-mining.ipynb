{
  "nbformat": 4,
  "nbformat_minor": 0,
  "metadata": {
    "colab": {
      "name": "HTML Color Codes Mining",
      "provenance": [],
      "collapsed_sections": [],
      "toc_visible": true
    },
    "kernelspec": {
      "name": "python3",
      "display_name": "Python 3"
    }
  },
  "cells": [
    {
      "cell_type": "markdown",
      "metadata": {
        "id": "aPhWCuzSUvFz",
        "colab_type": "text"
      },
      "source": [
        "## Mining Color Names and Hex-Codes\n",
        "\n",
        "Using BeautifulSoup!"
      ]
    },
    {
      "cell_type": "code",
      "metadata": {
        "id": "lCmOWQc_Urlh",
        "colab_type": "code",
        "colab": {}
      },
      "source": [
        "import re\n",
        "import requests\n",
        "from bs4 import BeautifulSoup"
      ],
      "execution_count": 0,
      "outputs": []
    },
    {
      "cell_type": "code",
      "metadata": {
        "id": "RWJPkhAkU5m3",
        "colab_type": "code",
        "colab": {}
      },
      "source": [
        "page_url = 'https://www.computerhope.com/htmcolor.htm'\n",
        "page = requests.get(page_url).content\n",
        "\n",
        "soup = BeautifulSoup(page, 'html.parser')"
      ],
      "execution_count": 0,
      "outputs": []
    },
    {
      "cell_type": "markdown",
      "metadata": {
        "id": "quKMGVSNVQgC",
        "colab_type": "text"
      },
      "source": [
        "## Retrieve Colors and Codes\n",
        "\n",
        "Luckliy, they are all in table rows (`td`) with class `wt`."
      ]
    },
    {
      "cell_type": "code",
      "metadata": {
        "id": "PAGdUNNeVW_h",
        "colab_type": "code",
        "colab": {}
      },
      "source": [
        "color_rows = soup.find_all('td', class_='wt')\n",
        "colors = {\n",
        "    color_row.text: color_row.get('style')\n",
        "    for color_row in filter(\n",
        "        lambda c: \n",
        "               c.get('style'),\n",
        "\n",
        "        color_rows\n",
        "    )\n",
        "}"
      ],
      "execution_count": 0,
      "outputs": []
    },
    {
      "cell_type": "code",
      "metadata": {
        "id": "CSyaJlwIVcYs",
        "colab_type": "code",
        "colab": {}
      },
      "source": [
        "colors"
      ],
      "execution_count": 0,
      "outputs": []
    },
    {
      "cell_type": "markdown",
      "metadata": {
        "id": "_ySfITFaV-ku",
        "colab_type": "text"
      },
      "source": [
        "## Clean Colors' Hex-Codes\n",
        "\n",
        "Lower-case everything and remove the `background: ` prefix."
      ]
    },
    {
      "cell_type": "code",
      "metadata": {
        "id": "bg8HPeRfWDpe",
        "colab_type": "code",
        "colab": {}
      },
      "source": [
        "clean_colors = {\n",
        "    name: re.sub(\n",
        "        r'^background: ', \n",
        "        r'', \n",
        "        hexcode.lower()\n",
        "    )\n",
        "\n",
        "    for name, hexcode in colors.items()\n",
        "}"
      ],
      "execution_count": 0,
      "outputs": []
    },
    {
      "cell_type": "code",
      "metadata": {
        "id": "LHghTz3eWScs",
        "colab_type": "code",
        "colab": {}
      },
      "source": [
        "clean_colors"
      ],
      "execution_count": 0,
      "outputs": []
    },
    {
      "cell_type": "markdown",
      "metadata": {
        "id": "BlJtvjW6Q_GZ",
        "colab_type": "text"
      },
      "source": [
        "## Convert to CSV for portability"
      ]
    },
    {
      "cell_type": "code",
      "metadata": {
        "id": "YkLSpgnyRFTb",
        "colab_type": "code",
        "colab": {}
      },
      "source": [
        "with open('html-colors.csv', 'w') as f:\n",
        "  f.write(f'name,hex\\n')\n",
        "  for name, hexcode in clean_colors.items():\n",
        "    f.write(f'{name},{hexcode}\\n')"
      ],
      "execution_count": 0,
      "outputs": []
    }
  ]
}